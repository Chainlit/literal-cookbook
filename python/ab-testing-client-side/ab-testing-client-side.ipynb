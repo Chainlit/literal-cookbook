{
 "cells": [
  {
   "cell_type": "markdown",
   "metadata": {},
   "source": [
    "# Client-side A/B testing two prompts\n",
    "\n",
    "In this notebook, you will learn how to do a simple A/B test between two different prompts. You will build a human-like buddy chatbot, using OpenAI and LiteralAI. Two prompts will be formulated. New conversations will automatically be assigned prompt version A or B. These Threads will be sent to Literal AI and tagged, to keep track of the group. Then, LLM answers of both groups will be tested against \"human-likeness\", using AI (OpenAI). Finally, a boxplot shows the difference between the two groups, having different formulated prompt. \n",
    "\n",
    "In this notebook, the A/B test happens client-side (in this notebook). This is a simple example of an A/B test, and serves as inspiration for your own project, where you can various other metrics to evaluate version A against version B (e.g. button clicks, user satisfaction, etc)."
   ]
  },
  {
   "cell_type": "code",
   "execution_count": 30,
   "metadata": {},
   "outputs": [],
   "source": [
    "from literalai import LiteralClient\n",
    "from dotenv import load_dotenv\n",
    "from openai import OpenAI\n",
    "\n",
    "load_dotenv()\n",
    "\n",
    "literal_client = LiteralClient()\n",
    "openai_client = OpenAI()\n",
    "\n",
    "literal_client.instrument_openai()"
   ]
  },
  {
   "cell_type": "markdown",
   "metadata": {},
   "source": [
    "## 1. Define prompts\n",
    "\n",
    "Let's define two different prompts, which will be compared in the A/B test. Prompt A is a standard, short prompt not specific to this use case. Prompt B is a prompt specified to the use case of building a human-like chatbot that can talk about emotions, use figure of speech and should sound more like a human.\n",
    "Both prompts will be saved in Literal AI. "
   ]
  },
  {
   "cell_type": "code",
   "execution_count": 31,
   "metadata": {},
   "outputs": [],
   "source": [
    "PROMPT_A = \"Prompt A - standard\"\n",
    "template_messages_A = [\n",
    "    {\n",
    "        \"role\": \"system\",\n",
    "        \"content\": \"You are a helpful assistant that always answers questions. Keep it short.\"\n",
    "    },\n",
    "    {\n",
    "        \"role\": \"user\",\n",
    "        \"content\": \"{{question}}\"\n",
    "    }\n",
    "]\n",
    "prompt_A = literal_client.api.get_or_create_prompt(name=PROMPT_A, template_messages=template_messages_A)"
   ]
  },
  {
   "cell_type": "code",
   "execution_count": 32,
   "metadata": {},
   "outputs": [],
   "source": [
    "PROMPT_B = \"Prompt B - human-like\"\n",
    "template_messages_B = [\n",
    "    {\n",
    "        \"role\": \"system\",\n",
    "        \"content\": \"You are a helpful assistant that always answers questions. Keep it short. Answer like you are a real human. For example, you can use emotions, metaphors and proverbs. Try to always be positive, and help the user with their questions, doubts and problems. Don't be pessimistic.\"\n",
    "    },\n",
    "    {\n",
    "        \"role\": \"user\",\n",
    "        \"content\": \"{{question}}\"\n",
    "    }\n",
    "]\n",
    "prompt_B = literal_client.api.get_or_create_prompt(name=PROMPT_B, template_messages=template_messages_B)"
   ]
  },
  {
   "cell_type": "markdown",
   "metadata": {},
   "source": [
    "## 2. Build the chatbot, randomly assign a prompt version\n",
    "\n",
    "In the first function, `run_agent()`, OpenAI is used to generate an answer to a user question. This step is added as `Run` step to Literal AI. \n",
    "\n",
    "In the second function, `app()`, a prompt is randomly assigned to a new conversation, and user and chatbot messages are sent to Literal AI for logging. Tags are added to the Thread for later reference of the testing group."
   ]
  },
  {
   "cell_type": "code",
   "execution_count": 33,
   "metadata": {},
   "outputs": [],
   "source": [
    "@literal_client.step(type=\"run\", name=\"Agent Run\")\n",
    "def run_agent(user_query: str, group: str):\n",
    "        \n",
    "    # assign prompt A or B\n",
    "    if group == \"A\":\n",
    "        messages = prompt_A.format_messages(question=user_query)\n",
    "    else:\n",
    "        messages = prompt_B.format_messages(question=user_query)\n",
    "\n",
    "    # run gpt\n",
    "    completion = openai_client.chat.completions.create(\n",
    "        model=\"gpt-4-turbo-preview\",\n",
    "        messages=messages\n",
    "    )\n",
    "\n",
    "    # extract answer\n",
    "    answer = completion.choices[0].message.content\n",
    "\n",
    "    return answer"
   ]
  },
  {
   "cell_type": "markdown",
   "metadata": {},
   "source": []
  },
  {
   "cell_type": "code",
   "execution_count": 34,
   "metadata": {},
   "outputs": [],
   "source": [
    "import random\n",
    "import time\n",
    "\n",
    "def app(questions):\n",
    "    for idx, question in enumerate(questions):\n",
    "        with literal_client.thread(name=f\"Question {idx+1}\") as thread:\n",
    "            # assign prompt A or B\n",
    "            if random.random() < 0.5:\n",
    "                group = \"A\"\n",
    "            else:\n",
    "                group = \"B\"\n",
    "                \n",
    "            # add tag to thread for later reference\n",
    "            thread.tags=[group]\n",
    "\n",
    "            literal_client.message(content=question, type=\"user_message\", name=\"User\")\n",
    "            answer = run_agent(question, group)\n",
    "            literal_client.message(content=answer, type=\"assistant_message\", name=\"My Assistant\")\n",
    "    \n",
    "    time.sleep(5) # to make sure all threads are uploaded to Literal AI before going to the next step"
   ]
  },
  {
   "cell_type": "markdown",
   "metadata": {},
   "source": [
    "## 3. Run app with sample data\n",
    "Create some sample questions as data."
   ]
  },
  {
   "cell_type": "code",
   "execution_count": 35,
   "metadata": {},
   "outputs": [],
   "source": [
    "questions = [\n",
    "    \"What should I do when I feel sad?\",\n",
    "    \"What do you think about falling in love?\",\n",
    "    \"What do you think about getting divorced?\",\n",
    "    \"What should I do when I feel happy?\",\n",
    "    \"What should I do if I feel tired?\",\n",
    "    \"What do you think of the movie Star Wars?\",\n",
    "    \"What do you think of the book Harry Potter?\",\n",
    "    \"What do you think about AI?\",\n",
    "    \"How do you feel about traveling?\",\n",
    "    \"How do I motivate myself to do sports?\"\n",
    "]"
   ]
  },
  {
   "cell_type": "code",
   "execution_count": 36,
   "metadata": {},
   "outputs": [],
   "source": [
    "app(questions)"
   ]
  },
  {
   "cell_type": "markdown",
   "metadata": {},
   "source": [
    "After running this, the Threads are visible in the Literal AI platform.\n",
    "\n",
    "![Threads in Literal AI](img/threads.png)"
   ]
  },
  {
   "cell_type": "markdown",
   "metadata": {},
   "source": [
    "## 4. Create Datasets\n",
    "Create two datasets of the Threads filtered by population Tag."
   ]
  },
  {
   "cell_type": "code",
   "execution_count": 37,
   "metadata": {},
   "outputs": [],
   "source": [
    "def get_threads(tag: str):\n",
    "    threads = literal_client.api.get_threads(filters=[{\n",
    "        \"field\": \"tags\",\n",
    "        \"operator\": \"in\",\n",
    "        \"value\": [tag]\n",
    "    }]).data\n",
    "\n",
    "    return threads"
   ]
  },
  {
   "cell_type": "code",
   "execution_count": 38,
   "metadata": {},
   "outputs": [],
   "source": [
    "def create_dataset(threads):\n",
    "    dataset = []\n",
    "\n",
    "    for thread in threads:\n",
    "        for step in thread.steps:\n",
    "            if step.name == \"Agent Run\":\n",
    "                data_item = {\n",
    "                    \"input\": step.input[\"args\"][0],\n",
    "                    \"output\": step.output[\"content\"]\n",
    "                }\n",
    "                dataset.append(data_item)\n",
    "    return dataset"
   ]
  },
  {
   "cell_type": "code",
   "execution_count": 39,
   "metadata": {},
   "outputs": [],
   "source": [
    "threads_A = get_threads(tag=\"A\")\n",
    "dataset_A = create_dataset(threads=threads_A)\n",
    "\n",
    "threads_B = get_threads(tag=\"B\")\n",
    "dataset_B = create_dataset(threads=threads_B)"
   ]
  },
  {
   "cell_type": "markdown",
   "metadata": {},
   "source": [
    "# Run A/B Experiment\n",
    "This happens client-side. A GPT-4 prompt is made, as evaluation agent. Then, all items are evaluated, per group."
   ]
  },
  {
   "cell_type": "code",
   "execution_count": 40,
   "metadata": {},
   "outputs": [],
   "source": [
    "def analyze(text):\n",
    "    messages = [\n",
    "        {\"role\": \"system\", \"content\": \"\"\"You are trained to analyze and detect the sentiment of given text.\"\"\"},\n",
    "        {\"role\": \"user\", \"content\": f\"\"\"Analyze the following recommendation and determine if the output is human-like. Check if there are emotions used, and metaphors and figure of speech. \n",
    "                                        Assign a score: Based on your evaluation assign a score to the agent's performans using the following scale:\n",
    "                                        - 1 (Poor): The agent is very machine like, doesn't use emotions, methaphors and figure of speech.\n",
    "                                        - 2 (Fair): The agent is some human-likeness, some emotions, methaphors and figure of speech are used\n",
    "                                        - 3 (Good): The agent is is human-like, uses enough emotions, methaphors and figure of speech.\n",
    "                                        - 4 (Very Good): The agent very human-like, uses multiple emotions, methaphors and figure of speech.\n",
    "                                        - 5 (Excellent): You almost cannot distinguish between the machine and the human, a lot emotions, methaphors and figure of speech are used.\n",
    "\n",
    "                                        After evaluating the conversation based on the criteria above, provide your score as an integer between 1 and 5. Only answer with a single character in the following value {1, 2, 3, 4, 5}.\n",
    "                                        Don't provide explanations, only the single integer value.\n",
    "\n",
    "                                        Text to evaluate: \n",
    "                                        {text}\n",
    "\n",
    "                                        Scoring Output:\n",
    "                                        \"\"\"}\n",
    "    ]\n",
    "   \n",
    "    response = openai_client.chat.completions.create(\n",
    "        model=\"gpt-4-turbo-preview\",\n",
    "        messages=messages, \n",
    "        max_tokens=1, \n",
    "        n=1, \n",
    "        stop=None, \n",
    "        temperature=0\n",
    "    )\n",
    "\n",
    "    response_text = response.choices[0].message.content\n",
    "\n",
    "    return response_text"
   ]
  },
  {
   "cell_type": "code",
   "execution_count": 41,
   "metadata": {},
   "outputs": [],
   "source": [
    "def create_experiment(dataset):     \n",
    "    scores = []   \n",
    "    for item in dataset:\n",
    "        score = analyze(item[\"output\"])\n",
    "\n",
    "        scores.append(int(score))\n",
    "\n",
    "    return scores\n",
    "        \n"
   ]
  },
  {
   "cell_type": "code",
   "execution_count": 42,
   "metadata": {},
   "outputs": [],
   "source": [
    "scores_A = create_experiment(dataset_A)\n",
    "scores_B = create_experiment(dataset_B)"
   ]
  },
  {
   "cell_type": "markdown",
   "metadata": {},
   "source": [
    "Let's see the final scores per group, on a scale of 0 to 1."
   ]
  },
  {
   "cell_type": "code",
   "execution_count": 43,
   "metadata": {},
   "outputs": [
    {
     "name": "stdout",
     "output_type": "stream",
     "text": [
      "Group A: [2, 2, 2, 2, 3, 2, 4, 4]\n",
      "Group B: [5, 4]\n"
     ]
    }
   ],
   "source": [
    "print(\"Group A:\", scores_A)\n",
    "print(\"Group B:\", scores_B)"
   ]
  },
  {
   "cell_type": "markdown",
   "metadata": {},
   "source": [
    "## 5. Visualize Experiment Results"
   ]
  },
  {
   "cell_type": "code",
   "execution_count": 44,
   "metadata": {},
   "outputs": [
    {
     "data": {
      "image/png": "[encoded data removed]",
      "text/plain": [
       "<Figure size 640x480 with 1 Axes>"
      ]
     },
     "metadata": {},
     "output_type": "display_data"
    }
   ],
   "source": [
    "import matplotlib.pyplot as plt\n",
    "\n",
    "labels = ['A', 'B']\n",
    "colors = ['#2DD4BF', '#F43F5E']\n",
    "\n",
    "fig, ax = plt.subplots()\n",
    "ax.set_ylabel('Human-like score')\n",
    "ax.set_ylim([0, 5])\n",
    "\n",
    "bplot = ax.boxplot([scores_A, scores_B],\n",
    "                   patch_artist=True,  # fill with color\n",
    "                   tick_labels=labels)  # will be used to label x-ticks\n",
    "\n",
    "# fill with colors\n",
    "for patch, color in zip(bplot['boxes'], colors):\n",
    "    patch.set_facecolor(color)\n",
    "\n",
    "plt.show()"
   ]
  },
  {
   "cell_type": "markdown",
   "metadata": {},
   "source": [
    "It's clear that group B is scored more \"human-like\"! "
   ]
  }
 ],
 "metadata": {
  "kernelspec": {
   "display_name": "Python 3",
   "language": "python",
   "name": "python3"
  },
  "language_info": {
   "codemirror_mode": {
    "name": "ipython",
    "version": 3
   },
   "file_extension": ".py",
   "mimetype": "text/x-python",
   "name": "python",
   "nbconvert_exporter": "python",
   "pygments_lexer": "ipython3",
   "version": "3.11.2"
  }
 },
 "nbformat": 4,
 "nbformat_minor": 2
}
